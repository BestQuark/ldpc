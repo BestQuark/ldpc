{
 "cells": [
  {
   "cell_type": "markdown",
   "metadata": {},
   "source": [
    "# ldpc\n",
    "This module provides a suite of tools for building and benmarking low density parity check (LDPC) codes. Features include functions for mod2 (binary) arithmatic and a fast implementation of the belief propagation decoder.\n",
    "\n",
    "## Installation from PyPi\n",
    "\n",
    "Installtion from PyPi requires Python>=3.6.\n",
    "To install via pip, run:\n",
    "\n",
    "```\n",
    "pip install ldpc\n",
    "```\n",
    "\n",
    "## Installation (from source)\n",
    "\n",
    "Installation from sources requires Python>=3.6 and a local C compiler (eg. 'gcc' in Linux or 'clang' in Windows). Once these requirements have been met, navigate to the repository root and install using pip:\n",
    "\n",
    "```\n",
    "pip install -e ldpc\n",
    "```\n",
    "\n",
    "## Basic usage\n",
    "\n",
    "In this package error correction codes are represented in terms of their parity check matrix. The parity check matrix for the repetition code can be loaded as follows:"
   ]
  },
  {
   "cell_type": "code",
   "execution_count": 5,
   "metadata": {},
   "outputs": [
    {
     "data": {
      "text/plain": [
       "array([[1, 1, 0, 0, 0],\n",
       "       [0, 1, 1, 0, 0],\n",
       "       [0, 0, 1, 1, 0],\n",
       "       [0, 0, 0, 1, 1]])"
      ]
     },
     "execution_count": 5,
     "metadata": {},
     "output_type": "execute_result"
    }
   ],
   "source": [
    "import numpy as np\n",
    "from ldpc.codes import rep_code\n",
    "n=5 #specifies the lenght of the repetition code\n",
    "H=rep_code(n) #returns the repetition code parity check matrix\n",
    "print(H)"
   ]
  },
  {
   "cell_type": "markdown",
   "metadata": {},
   "source": [
    "We now generate a random error and calculate it's syndome"
   ]
  },
  {
   "cell_type": "code",
   "execution_count": 13,
   "metadata": {},
   "outputs": [
    {
     "name": "stdout",
     "output_type": "stream",
     "text": [
      "Error: [1 0 0 0 0]\n",
      "Syndrome: [1 0 0 0]\n"
     ]
    }
   ],
   "source": [
    "error=np.zeros(n).astype(int) #error vector\n",
    "error[np.random.randint(n)]=1 #error inserted on a random bit\n",
    "syndrome=H@error %2 #calculates the error syndrome\n",
    "print(f\"Error: {error}\")\n",
    "print(f\"Syndrome: {syndrome}\")"
   ]
  },
  {
   "cell_type": "markdown",
   "metadata": {},
   "source": [
    "To decode we first call the bp_decoder class:"
   ]
  },
  {
   "cell_type": "code",
   "execution_count": 16,
   "metadata": {},
   "outputs": [
    {
     "name": "stdout",
     "output_type": "stream",
     "text": [
      "Decoding: [1 0 0 0 0]\n"
     ]
    }
   ],
   "source": [
    "from ldpc import bp_decoder\n",
    "bpd=bp_decoder(H,error_rate=0.05,max_iter=n) #BP decoder class\n",
    "decoding=bpd.decode(syndrome)\n",
    "print(f\"Decoding: {error}\")"
   ]
  },
  {
   "cell_type": "markdown",
   "metadata": {},
   "source": [
    "## Error correction over the binary symmetric channel"
   ]
  },
  {
   "cell_type": "code",
   "execution_count": 21,
   "metadata": {},
   "outputs": [
    {
     "name": "stdout",
     "output_type": "stream",
     "text": [
      "Error: [0 0 0 0 1]\n",
      "Syndrome: [0 0 0 1]\n",
      "Decoding: [0 0 0 0 1]\n",
      "\n",
      "Error: [0 1 0 0 0]\n",
      "Syndrome: [1 1 0 0]\n",
      "Decoding: [0 1 0 0 0]\n",
      "\n",
      "Error: [1 0 0 0 0]\n",
      "Syndrome: [1 0 0 0]\n",
      "Decoding: [1 0 0 0 0]\n",
      "\n",
      "Error: [0 1 1 0 1]\n",
      "Syndrome: [1 0 1 1]\n",
      "Decoding: [0 1 1 0 1]\n",
      "\n",
      "Error: [0 0 0 1 0]\n",
      "Syndrome: [0 0 1 1]\n",
      "Decoding: [0 0 0 1 0]\n",
      "\n"
     ]
    }
   ],
   "source": [
    "n=5\n",
    "error_rate=0.1\n",
    "runs=5\n",
    "H=rep_code(n)\n",
    "bpd=bp_decoder(H,error_rate=error_rate,max_iter=n,bp_method=\"product_sum\") #BP decoder class. Make sure this is defined outside the loop\n",
    "error=np.zeros(n).astype(int) #error vector\n",
    "\n",
    "for _ in range(runs):\n",
    "    for i in range(n):\n",
    "        if np.random.random()<error_rate:\n",
    "            error[i]=1\n",
    "        else: error[i]=0\n",
    "    error[np.random.randint(n)]=1 #error inserted on a random bit\n",
    "    syndrome=H@error %2 #calculates the error syndrome\n",
    "    print(f\"Error: {error}\")\n",
    "    print(f\"Syndrome: {syndrome}\")\n",
    "    decoding=bpd.decode(syndrome)\n",
    "    print(f\"Decoding: {error}\\n\")"
   ]
  },
  {
   "cell_type": "code",
   "execution_count": null,
   "metadata": {},
   "outputs": [],
   "source": []
  }
 ],
 "metadata": {
  "interpreter": {
   "hash": "3b13851432b22d6f1e5694c9da7f80ec6c6b2b7f955aecf4f28cb697779c3947"
  },
  "kernelspec": {
   "display_name": "Python 3 (ipykernel)",
   "language": "python",
   "name": "python3"
  },
  "language_info": {
   "codemirror_mode": {
    "name": "ipython",
    "version": 3
   },
   "file_extension": ".py",
   "mimetype": "text/x-python",
   "name": "python",
   "nbconvert_exporter": "python",
   "pygments_lexer": "ipython3",
   "version": "3.7.11"
  }
 },
 "nbformat": 4,
 "nbformat_minor": 4
}
