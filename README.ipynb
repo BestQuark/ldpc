{
 "cells": [
  {
   "cell_type": "markdown",
   "metadata": {},
   "source": [
    "![Build](https://github.com/quantumgizmos/ldpc/workflows/Build/badge.svg)\n",
    "\n",
    "# LDPC\n",
    "This module provides a suite of tools for building and benmarking low density parity check (LDPC) codes. Features include functions for mod2 (binary) arithmatic and a fast implementation of the belief propagation decoder.\n",
    "\n",
    "## Installation from PyPi (recommended method)\n",
    "\n",
    "Installtion from [PyPi](https://pypi.org/project/ldpc/) requires Python>=3.6.\n",
    "To install via pip, run:\n",
    "\n",
    "```\n",
    "pip install ldpc\n",
    "```\n",
    "\n",
    "## Installation (from source)\n",
    "\n",
    "Installation from source requires Python>=3.6 and a local C compiler (eg. 'gcc' in Linux or 'clang' in Windows). The LDPC package can then be installed by running:\n",
    "\n",
    "```\n",
    "git clone https://github.com/quantumgizmos/ldpc.git\n",
    "cd ldpc\n",
    "pip install -e ldpc\n",
    "```\n",
    "\n",
    "## Dependencies\n",
    "This package makes use of the `mod2sparse` data structure from Radford Neal's [Software for Low Density Parity Check Codes](https://www.cs.toronto.edu/~radford/ftp/LDPC-2012-02-11/index.html) C package.\n",
    "\n",
    "## Quick start\n",
    "\n",
    "### Parity check matrices\n",
    "\n",
    "In this package error correction codes are represented in terms of their parity check matrix stored in `numpy.ndarray` format. As an example, the parity check matrix for the repetition code can be loaded from the `ldpc.codes` submodule as follows:"
   ]
  },
  {
   "cell_type": "code",
   "execution_count": 12,
   "metadata": {},
   "outputs": [
    {
     "name": "stdout",
     "output_type": "stream",
     "text": [
      "[[1 1 0 0 0]\n",
      " [0 1 1 0 0]\n",
      " [0 0 1 1 0]\n",
      " [0 0 0 1 1]]\n"
     ]
    }
   ],
   "source": [
    "import numpy as np\n",
    "from ldpc.codes import rep_code\n",
    "n=5 #specifies the lenght of the repetition code\n",
    "H=rep_code(n) #returns the repetition code parity check matrix\n",
    "print(H)"
   ]
  },
  {
   "cell_type": "markdown",
   "metadata": {},
   "source": [
    "To compute the [n,k,d] code parameters we can use functions from the `ldpc.mod2` and `ldpc.code_util` submodules. Below is an example showing how to calculate the code parameters of the Hamming code:"
   ]
  },
  {
   "cell_type": "code",
   "execution_count": 17,
   "metadata": {},
   "outputs": [
    {
     "name": "stdout",
     "output_type": "stream",
     "text": [
      "[[0 0 0 1 1 1 1]\n",
      " [0 1 1 0 0 1 1]\n",
      " [1 0 1 0 1 0 1]]\n",
      "Hamming code parameters: [n=7,k=4,d=3]\n"
     ]
    }
   ],
   "source": [
    "from ldpc.codes import hamming_code #function for generating Hamming codes\n",
    "from ldpc.mod2 import rank #function for calcuting the mod2 rank\n",
    "from ldpc.code_util import compute_code_distance #function for calculting the code distance\n",
    "\n",
    "H=hamming_code(3)\n",
    "print(H)\n",
    "n=H.shape[1] #block length of the code\n",
    "k=n-rank(H) #the dimension of the code computed using the rank-nullity theorem.\n",
    "d=compute_code_distance(H) #computes the code distance\n",
    "print(f\"Hamming code parameters: [n={n},k={k},d={d}]\")"
   ]
  },
  {
   "cell_type": "markdown",
   "metadata": {},
   "source": [
    "Note that computing the code distance quickly becomes intractable for larger parity check matrices. The `ldpc.code_util.compute_code_distance` should therefore only be used for small codes."
   ]
  },
  {
   "cell_type": "markdown",
   "metadata": {},
   "source": [
    "## Belief propagation decoding\n",
    "\n",
    "To decode using belief propagation, first load an istance of the `ldpc.bp_decoder` class.\n"
   ]
  },
  {
   "cell_type": "code",
   "execution_count": 51,
   "metadata": {},
   "outputs": [],
   "source": [
    "from ldpc import bp_decoder\n",
    "H=rep_code(3)\n",
    "n=H.shape[1]\n",
    "\n",
    "bpd=bp_decoder(\n",
    "    H, #the parity check matrix\n",
    "    error_rate=0.1, # the error rate on each bit\n",
    "    max_iter=n, #the maximum iteration depth for BP\n",
    "    bp_method=\"product_sum\", #BP method. The other option is `minimum_sum'\n",
    "    channel_probs=[None] #channel probability probabilities. Will overide error rate.\n",
    ")"
   ]
  },
  {
   "cell_type": "markdown",
   "metadata": {},
   "source": [
    "To decode an error, calculate a syndrome and call the `bp_decoder.decode` function:"
   ]
  },
  {
   "cell_type": "code",
   "execution_count": 47,
   "metadata": {},
   "outputs": [
    {
     "name": "stdout",
     "output_type": "stream",
     "text": [
      "Error: [0 1 0]\n",
      "Syndrome: [1 1]\n",
      "Decoding: [0 1 0]\n"
     ]
    }
   ],
   "source": [
    "error=np.array([0,1,0])\n",
    "syndrome=H@error%2\n",
    "decoding=bpd.decode(syndrome)\n",
    "print(f\"Error: {error}\")\n",
    "print(f\"Syndrome: {syndrome}\")\n",
    "print(f\"Decoding: {decoding}\")"
   ]
  },
  {
   "cell_type": "markdown",
   "metadata": {},
   "source": [
    "If the code bits are subject to different error rates, a channel probability vector can be provided instead of the error rate."
   ]
  },
  {
   "cell_type": "code",
   "execution_count": 52,
   "metadata": {},
   "outputs": [
    {
     "name": "stdout",
     "output_type": "stream",
     "text": [
      "Error: [1 0 1]\n",
      "Syndrome: [1 1]\n",
      "Decoding: [1 0 1]\n"
     ]
    }
   ],
   "source": [
    "bpd=bp_decoder(\n",
    "    H, \n",
    "    max_iter=n,\n",
    "    bp_method=\"product_sum\", \n",
    "    channel_probs=[0.1,0,0.1] #channel probability probabilities. Will overide error rate.\n",
    ")\n",
    "\n",
    "error=np.array([1,0,1])\n",
    "syndrome=H@error%2\n",
    "decoding=bpd.decode(syndrome)\n",
    "print(f\"Error: {error}\")\n",
    "print(f\"Syndrome: {syndrome}\")\n",
    "print(f\"Decoding: {decoding}\")"
   ]
  },
  {
   "cell_type": "markdown",
   "metadata": {},
   "source": [
    "## Example: error correction over the binary symmetric channel"
   ]
  },
  {
   "cell_type": "code",
   "execution_count": 25,
   "metadata": {},
   "outputs": [
    {
     "name": "stdout",
     "output_type": "stream",
     "text": [
      "Error: [1 0 0 1 0 1 0 0 1 1 0 0 0]\n",
      "Syndrome: [1 0 1 1 1 1 0 1 0 1 0 0]\n",
      "Decoding: [1 0 0 1 0 1 0 0 1 1 0 0 0]\n",
      "\n",
      "Error: [0 0 0 1 1 0 0 0 0 0 0 1 1]\n",
      "Syndrome: [0 0 1 0 1 0 0 0 0 0 1 0]\n",
      "Decoding: [0 0 0 1 1 0 0 0 0 0 0 1 1]\n",
      "\n",
      "Error: [1 0 0 1 0 0 1 0 1 0 1 0 0]\n",
      "Syndrome: [1 0 1 1 0 1 1 1 1 1 1 0]\n",
      "Decoding: [1 0 0 1 0 0 1 0 1 0 1 0 0]\n",
      "\n",
      "Error: [0 0 1 1 0 0 0 1 1 0 1 1 0]\n",
      "Syndrome: [0 1 0 1 0 0 1 0 1 1 0 1]\n",
      "Decoding: [0 0 1 1 0 0 0 1 1 0 1 1 0]\n",
      "\n",
      "Error: [0 0 0 0 0 0 0 0 1 1 0 0 0]\n",
      "Syndrome: [0 0 0 0 0 0 0 1 0 1 0 0]\n",
      "Decoding: [0 0 0 0 0 0 0 0 1 1 0 0 0]\n",
      "\n"
     ]
    }
   ],
   "source": [
    "import numpy as np\n",
    "from ldpc.codes import rep_code\n",
    "from ldpc import bp_decoder\n",
    "\n",
    "n=13\n",
    "error_rate=0.3\n",
    "runs=5\n",
    "H=rep_code(n)\n",
    "\n",
    "#BP decoder class. Make sure this is defined outside the loop\n",
    "bpd=bp_decoder(H,error_rate=error_rate,max_iter=n,bp_method=\"product_sum\")\n",
    "error=np.zeros(n).astype(int) #error vector\n",
    "\n",
    "for _ in range(runs):\n",
    "    for i in range(n):\n",
    "        if np.random.random()<error_rate:\n",
    "            error[i]=1\n",
    "        else: error[i]=0\n",
    "    error[np.random.randint(n)]=1 #error inserted on a random bit\n",
    "    syndrome=H@error %2 #calculates the error syndrome\n",
    "    print(f\"Error: {error}\")\n",
    "    print(f\"Syndrome: {syndrome}\")\n",
    "    decoding=bpd.decode(syndrome)\n",
    "    print(f\"Decoding: {error}\\n\")"
   ]
  }
 ],
 "metadata": {
  "interpreter": {
   "hash": "3b13851432b22d6f1e5694c9da7f80ec6c6b2b7f955aecf4f28cb697779c3947"
  },
  "kernelspec": {
   "display_name": "Python 3 (ipykernel)",
   "language": "python",
   "name": "python3"
  },
  "language_info": {
   "codemirror_mode": {
    "name": "ipython",
    "version": 3
   },
   "file_extension": ".py",
   "mimetype": "text/x-python",
   "name": "python",
   "nbconvert_exporter": "python",
   "pygments_lexer": "ipython3",
   "version": "3.7.11"
  }
 },
 "nbformat": 4,
 "nbformat_minor": 4
}
